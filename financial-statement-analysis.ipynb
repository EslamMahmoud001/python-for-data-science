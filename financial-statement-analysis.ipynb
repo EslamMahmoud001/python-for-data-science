{
 "cells": [
  {
   "cell_type": "code",
   "execution_count": null,
   "id": "5181e3cd",
   "metadata": {},
   "outputs": [],
   "source": [
    "import numpy as np\n",
    "\n",
    "#Data \n",
    "revenue = [14574.49, 7606.46, 8611.41, 9175.41, 8058.65, 8105.44, 11496.28, 9766.09, 10305.32, 14379.96, 10713.97, 15433.50]\n",
    "expenses = [12051.82, 5695.07, 12319.20, 12089.72, 8658.57, 840.20, 3285.73, 5821.12, 6976.93, 16618.61, 10054.37, 3803.96]\n",
    "tax_rate = 0.3\n",
    "\n",
    "#profit for each month\n",
    "profit_by_month = []\n",
    "profit_by_month_aft_tax = []\n",
    "profit_margin_by_month = []\n",
    "\n",
    "for i in range(len(revenue)):\n",
    "    x = round((revenue[i] - expenses[i])/1000, 2)\n",
    "    x_tax = round(x * (1-tax_rate),2)\n",
    "    y = round(((revenue[i] - expenses[i]) * (1-tax_rate) ) / revenue[i] * 100, 2)\n",
    "\n",
    "    profit_by_month.append(x)\n",
    "    profit_by_month_aft_tax.append(x_tax)\n",
    "    profit_margin_by_month.append(y)\n",
    "\n",
    "profit_mean = np.array(profit_by_month).mean()\n",
    "good_months = [profit_by_month[i] for i in range(len(profit_by_month)) if profit_by_month[i] > profit_mean]\n",
    "bad_months = [profit_by_month[i] for i in range(len(profit_by_month)) if profit_by_month[i] <= profit_mean]\n",
    "best_month = np.array(profit_by_month_aft_tax).max()\n",
    "worst_month = np.array(profit_by_month_aft_tax).min()\n"
   ]
  }
 ],
 "metadata": {
  "kernelspec": {
   "display_name": "base",
   "language": "python",
   "name": "python3"
  },
  "language_info": {
   "codemirror_mode": {
    "name": "ipython",
    "version": 3
   },
   "file_extension": ".py",
   "mimetype": "text/x-python",
   "name": "python",
   "nbconvert_exporter": "python",
   "pygments_lexer": "ipython3",
   "version": "3.12.7"
  }
 },
 "nbformat": 4,
 "nbformat_minor": 5
}
